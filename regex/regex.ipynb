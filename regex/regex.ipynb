{
 "cells": [
  {
   "cell_type": "code",
   "execution_count": 1,
   "metadata": {},
   "outputs": [],
   "source": [
    "# Import.\n",
    "import re"
   ]
  },
  {
   "cell_type": "markdown",
   "metadata": {},
   "source": [
    "# Задание 1."
   ]
  },
  {
   "cell_type": "code",
   "execution_count": 2,
   "metadata": {},
   "outputs": [],
   "source": [
    "def is_num_valid(car_id):\n",
    "    \"\"\" Checks if vehicle id is valid or not. \"\"\"\n",
    "    \n",
    "    av_chars = 'АВЕКМНОРСТХУ'\n",
    "    pattern = r'^[' + av_chars + ']{1}\\d{3}[' + av_chars + ']{2}\\d{2}'\n",
    "    flag = re.match(pattern, car_id)\n",
    "    return f'Номер {car_id[:6]} валиден. Регион: {car_id[6:]}' if flag else 'Номер не валиден.'\n",
    "    \n",
    "    \n",
    "# Test.\n",
    "assert is_num_valid('АБ22ВВ193') == 'Номер не валиден.'\n",
    "assert is_num_valid('А222ВС96') == 'Номер А222ВС валиден. Регион: 96'"
   ]
  },
  {
   "cell_type": "markdown",
   "metadata": {},
   "source": [
    "# Задание 2."
   ]
  },
  {
   "cell_type": "code",
   "execution_count": 3,
   "metadata": {},
   "outputs": [
    {
     "name": "stdout",
     "output_type": "stream",
     "text": [
      "Напишите функцию, которая будет удалять все последовательные повторы слов из заданной строки при помощи регулярных выражений.\n"
     ]
    }
   ],
   "source": [
    "def del_consec_repetitions(string):\n",
    "    \"\"\" Deletes consecutive repetitions of the words in the given string. \"\"\"\n",
    "    \n",
    "    return re.sub(r'(\\w+)(\\s+\\1)+', r'\\1', string, flags=re.I)\n",
    "    \n",
    "    \n",
    "# Test.\n",
    "string = 'Напишите функцию функцию, которая будет будет будет будет удалять все все все все ' +\\\n",
    "        'последовательные повторы слов из из из из заданной строки строки при помощи регулярных выражений.'\n",
    "answer = 'Напишите функцию, которая будет удалять все последовательные повторы слов из заданной строки ' +\\\n",
    "        'при помощи регулярных выражений.'\n",
    "print(del_consec_repetitions(string))\n",
    "assert del_consec_repetitions(string) == answer"
   ]
  },
  {
   "cell_type": "markdown",
   "metadata": {},
   "source": [
    "# Задание 3."
   ]
  },
  {
   "cell_type": "code",
   "execution_count": 4,
   "metadata": {},
   "outputs": [],
   "source": [
    "def get_acronym(string):\n",
    "    \"\"\" Returns acronym of the given string. \"\"\"\n",
    "    \n",
    "    return ''.join(list(re.findall(r'\\b[а-яёА-ЯЁa-zA-Z]', string))).upper() if string else 'Пустая строка.'\n",
    "\n",
    "\n",
    "# Test.\n",
    "assert get_acronym('Информационные технологии') == 'ИТ'\n",
    "assert get_acronym('Near Field Communication') == 'NFC'\n",
    "assert get_acronym('') == 'Пустая строка.'"
   ]
  },
  {
   "cell_type": "markdown",
   "metadata": {},
   "source": [
    "# Задание 4."
   ]
  },
  {
   "cell_type": "code",
   "execution_count": 5,
   "metadata": {},
   "outputs": [
    {
     "name": "stdout",
     "output_type": "stream",
     "text": [
      "gmail.com: 2\n",
      "test.in: 1\n",
      "ya.ru: 2\n",
      "mail.ru: 1\n"
     ]
    }
   ],
   "source": [
    "def get_domens_distribution(emails):\n",
    "    \"\"\" Returns information about domens distribution. \"\"\"\n",
    "    \n",
    "    domens_dict = dict()\n",
    "    pattern = r'(?<=\\w@)\\w+.\\w+'\n",
    "    for email in emails:\n",
    "        domen = re.search(pattern, email).group(0)\n",
    "        if domen in domens_dict:\n",
    "            domens_dict[domen] += 1\n",
    "            continue\n",
    "        domens_dict[domen] = 1\n",
    "    return prepare_to_print(domens_dict)\n",
    "    \n",
    "    \n",
    "def prepare_to_print(domens_dict):\n",
    "    \"\"\" Prepares data to be printed properly. \"\"\"\n",
    "    \n",
    "    result = ''\n",
    "    for domen, qty in domens_dict.items():\n",
    "        result += f'{domen}: {str(qty)}\\n'\n",
    "    return result.rstrip('\\n')\n",
    "    \n",
    "    \n",
    "# Test.\n",
    "emails = ['test@gmail.com', 'xyz@test.in', 'test@ya.ru', 'xyz@mail.ru', 'xyz@ya.ru', 'xyz@gmail.com']\n",
    "answer = 'gmail.com: 2\\ntest.in: 1\\nya.ru: 2\\nmail.ru: 1'\n",
    "print(get_domens_distribution(emails))"
   ]
  },
  {
   "cell_type": "markdown",
   "metadata": {},
   "source": [
    "# Задание 5."
   ]
  },
  {
   "cell_type": "code",
   "execution_count": 6,
   "metadata": {},
   "outputs": [
    {
     "name": "stdout",
     "output_type": "stream",
     "text": [
      "Слов на гласные буквы: 9\n",
      "Слов на согласные буквы: 21\n"
     ]
    }
   ],
   "source": [
    "def get_the_number_of_words_that_start_with_vowels_and_consonants(text):\n",
    "    \"\"\" Returns the number of words that start with vowels and constants. \"\"\"\n",
    "    \n",
    "    pattern_vowels = r'\\b[аоэеиыуёюяАОЭЕИЫУЁЮЯaeiоuyAEIOUY]'\n",
    "    pattern_consonants = r'\\b[бвгджзйклмнпрстфхцчшщБВГДЖЗЙКЛМНПРСТФХЦЧШЩbcdfghjklmnpqrstvwxzBCDFGHJKLMNPQRSTVWXZ]'\n",
    "    num_vow_words = len(re.findall(pattern_vowels, text))\n",
    "    num_conson_words = len(re.findall(pattern_consonants, text))\n",
    "    return f'Слов на гласные буквы: {num_vow_words}\\nСлов на согласные буквы: {num_conson_words}'\n",
    "    \n",
    "    \n",
    "# Test.\n",
    "text = 'Эталонной реализацией Python является интерпретатор CPython, поддерживающий большинство ' +\\\n",
    "        'активно используемых платформ. Он распространяется под свободной лицензией Python Software ' +\\\n",
    "        'Foundation License, позволяющей использовать его без ограничений в любых приложениях, включая ' +\\\n",
    "        'проприетарные.'\n",
    "print(get_the_number_of_words_that_start_with_vowels_and_consonants(text))\n",
    "assert get_the_number_of_words_that_start_with_vowels_and_consonants(text) == 'Слов на гласные буквы: 9\\n' +\\\n",
    "                                                                                'Слов на согласные буквы: 21'"
   ]
  },
  {
   "cell_type": "markdown",
   "metadata": {},
   "source": [
    "# Задание 6."
   ]
  },
  {
   "cell_type": "code",
   "execution_count": 7,
   "metadata": {},
   "outputs": [],
   "source": [
    "def check_phone_number(number):\n",
    "    \"\"\" Checks if phone number is valid or not. \"\"\"\n",
    "    \n",
    "    pattern = r'^(\\+?[7]|[8]){1}[\\s\\W]*\\d{3}[\\s\\W]*\\d{3}([\\s\\W]*\\d{2}){2}$'\n",
    "    flag = re.match(pattern, number)\n",
    "    result = ''\n",
    "    if flag:\n",
    "        result += '+7-'\n",
    "        nums = list(re.findall(r'\\d{1}', number))\n",
    "        string = ''.join(nums[1:4]) + '-' + ''.join(nums[4:7]) + '-' +\\\n",
    "                ''.join(nums[7:9]) + '-' + ''.join(nums[9:11])\n",
    "        return result + string\n",
    "    return result if result else 'Номер не валиден'\n",
    "    \n",
    "\n",
    "# Test.\n",
    "result = '+7-955-555-55-55'\n",
    "\n",
    "num_1 = '+7 955 555-55-55'\n",
    "assert check_phone_number(num_1) == result\n",
    "\n",
    "num_2 = '8(955)555-55-55'\n",
    "assert check_phone_number(num_2) == result\n",
    "\n",
    "num_3 = '+7 955 555 55 55'\n",
    "assert check_phone_number(num_3) == result\n",
    "\n",
    "num_4 = '7(955) 555-55-55'\n",
    "assert check_phone_number(num_4) == result\n",
    "\n",
    "num_5 = '423-555-55-5555'\n",
    "num_6 = '123-456-789'\n",
    "result_5_6 = 'Номер не валиден'\n",
    "assert check_phone_number(num_5) == result_5_6\n",
    "assert check_phone_number(num_6) == result_5_6"
   ]
  }
 ],
 "metadata": {
  "kernelspec": {
   "display_name": "Python 3",
   "language": "python",
   "name": "python3"
  },
  "language_info": {
   "codemirror_mode": {
    "name": "ipython",
    "version": 3
   },
   "file_extension": ".py",
   "mimetype": "text/x-python",
   "name": "python",
   "nbconvert_exporter": "python",
   "pygments_lexer": "ipython3",
   "version": "3.8.5"
  }
 },
 "nbformat": 4,
 "nbformat_minor": 4
}
