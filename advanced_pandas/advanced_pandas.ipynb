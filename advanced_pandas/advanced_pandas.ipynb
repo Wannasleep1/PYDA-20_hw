{
 "cells": [
  {
   "cell_type": "code",
   "execution_count": 1,
   "metadata": {},
   "outputs": [],
   "source": [
    "import pandas as pd"
   ]
  },
  {
   "cell_type": "markdown",
   "metadata": {},
   "source": [
    "# Задание 1."
   ]
  },
  {
   "cell_type": "code",
   "execution_count": 2,
   "metadata": {},
   "outputs": [
    {
     "data": {
      "text/html": [
       "<div>\n",
       "<style scoped>\n",
       "    .dataframe tbody tr th:only-of-type {\n",
       "        vertical-align: middle;\n",
       "    }\n",
       "\n",
       "    .dataframe tbody tr th {\n",
       "        vertical-align: top;\n",
       "    }\n",
       "\n",
       "    .dataframe thead th {\n",
       "        text-align: right;\n",
       "    }\n",
       "</style>\n",
       "<table border=\"1\" class=\"dataframe\">\n",
       "  <thead>\n",
       "    <tr style=\"text-align: right;\">\n",
       "      <th></th>\n",
       "      <th>timestamp</th>\n",
       "      <th>visit_id</th>\n",
       "      <th>url</th>\n",
       "      <th>region</th>\n",
       "      <th>user_id</th>\n",
       "      <th>traffic_source</th>\n",
       "      <th>source_type</th>\n",
       "    </tr>\n",
       "  </thead>\n",
       "  <tbody>\n",
       "    <tr>\n",
       "      <th>6</th>\n",
       "      <td>1549980742</td>\n",
       "      <td>b0f66adc83</td>\n",
       "      <td>https://host.ru/b8b58337d272ee7b15</td>\n",
       "      <td>Russia</td>\n",
       "      <td>13fc55e781</td>\n",
       "      <td>paid</td>\n",
       "      <td>ad</td>\n",
       "    </tr>\n",
       "    <tr>\n",
       "      <th>12</th>\n",
       "      <td>1549980789</td>\n",
       "      <td>15ec7bf0b5</td>\n",
       "      <td>https://host.ru/8e88d4703848cc0ec4</td>\n",
       "      <td>Russia</td>\n",
       "      <td>6d1d81f7f8</td>\n",
       "      <td>paid</td>\n",
       "      <td>ad</td>\n",
       "    </tr>\n",
       "    <tr>\n",
       "      <th>15</th>\n",
       "      <td>1549980797</td>\n",
       "      <td>5322fecfc9</td>\n",
       "      <td>https://host.ru/4adc8a29b212051b04</td>\n",
       "      <td>Belarus</td>\n",
       "      <td>9a45d98867</td>\n",
       "      <td>paid</td>\n",
       "      <td>other</td>\n",
       "    </tr>\n",
       "    <tr>\n",
       "      <th>17</th>\n",
       "      <td>1549980807</td>\n",
       "      <td>0a88111852</td>\n",
       "      <td>https://host.ru/2fcb223266880ccf57</td>\n",
       "      <td>Ukraine</td>\n",
       "      <td>a2ba8fa3db</td>\n",
       "      <td>paid</td>\n",
       "      <td>other</td>\n",
       "    </tr>\n",
       "    <tr>\n",
       "      <th>26</th>\n",
       "      <td>1549980852</td>\n",
       "      <td>659d36ca56</td>\n",
       "      <td>https://host.ru/4adc8a29b212051b04</td>\n",
       "      <td>Russia</td>\n",
       "      <td>c4bd1ae3af</td>\n",
       "      <td>paid</td>\n",
       "      <td>ad</td>\n",
       "    </tr>\n",
       "  </tbody>\n",
       "</table>\n",
       "</div>"
      ],
      "text/plain": [
       "     timestamp    visit_id                                 url   region  \\\n",
       "6   1549980742  b0f66adc83  https://host.ru/b8b58337d272ee7b15   Russia   \n",
       "12  1549980789  15ec7bf0b5  https://host.ru/8e88d4703848cc0ec4   Russia   \n",
       "15  1549980797  5322fecfc9  https://host.ru/4adc8a29b212051b04  Belarus   \n",
       "17  1549980807  0a88111852  https://host.ru/2fcb223266880ccf57  Ukraine   \n",
       "26  1549980852  659d36ca56  https://host.ru/4adc8a29b212051b04   Russia   \n",
       "\n",
       "       user_id traffic_source source_type  \n",
       "6   13fc55e781           paid          ad  \n",
       "12  6d1d81f7f8           paid          ad  \n",
       "15  9a45d98867           paid       other  \n",
       "17  a2ba8fa3db           paid       other  \n",
       "26  c4bd1ae3af           paid          ad  "
      ]
     },
     "execution_count": 2,
     "metadata": {},
     "output_type": "execute_result"
    }
   ],
   "source": [
    "# Solution by loc method.\n",
    "visit_log = pd.read_csv('visit_log.csv', sep=';')\n",
    "visit_log.loc[(visit_log['traffic_source'] == 'yandex') | (visit_log['traffic_source'] == 'google'), 'source_type'] = 'organic'\n",
    "visit_log.loc[(visit_log['region'].str.lower() == 'russia') & ((visit_log['traffic_source'] == 'paid') | \\\n",
    "            (visit_log['traffic_source'] == 'email')), 'source_type'] = 'ad'\n",
    "visit_log.loc[(visit_log['region'].str.lower() != 'russia') & ((visit_log['traffic_source'] == 'paid') | \\\n",
    "            (visit_log['traffic_source'] == 'email')), 'source_type'] = 'other'\n",
    "visit_log.loc[(visit_log['traffic_source'] != 'paid') & (visit_log['traffic_source'] != 'email') & \\\n",
    "             (visit_log['traffic_source'] != 'yandex') & (visit_log['traffic_source'] != 'google'), \\\n",
    "              'source_type'] = visit_log['traffic_source']\n",
    "visit_log[visit_log['traffic_source'] == 'paid'].head()\n",
    "\n",
    "\n",
    "# # Solution by function.\n",
    "# def get_source_type(row):\n",
    "    \n",
    "#     if (row['traffic_source'].lower() == 'yandex') or (row['traffic_source'].lower() == 'google'):\n",
    "#         return 'organic'\n",
    "#     elif (row['traffic_source'].lower() == 'paid') or (row['traffic_source'].lower() == 'email'):\n",
    "#         if (row['region'].lower() == 'russia'):\n",
    "#             return 'ad'\n",
    "#         else:\n",
    "#             return 'other'\n",
    "#     else:\n",
    "#         return row['traffic_source']\n",
    "    \n",
    "\n",
    "# visit_log = pd.read_csv('visit_log.csv', sep=';')\n",
    "# visit_log['source_type'] = visit_log.apply(get_source_type, axis=1)\n",
    "# visit_log.head()"
   ]
  },
  {
   "cell_type": "markdown",
   "metadata": {},
   "source": [
    "# Задание 2."
   ]
  },
  {
   "cell_type": "code",
   "execution_count": 3,
   "metadata": {},
   "outputs": [
    {
     "data": {
      "text/html": [
       "<div>\n",
       "<style scoped>\n",
       "    .dataframe tbody tr th:only-of-type {\n",
       "        vertical-align: middle;\n",
       "    }\n",
       "\n",
       "    .dataframe tbody tr th {\n",
       "        vertical-align: top;\n",
       "    }\n",
       "\n",
       "    .dataframe thead th {\n",
       "        text-align: right;\n",
       "    }\n",
       "</style>\n",
       "<table border=\"1\" class=\"dataframe\">\n",
       "  <thead>\n",
       "    <tr style=\"text-align: right;\">\n",
       "      <th></th>\n",
       "      <th>url</th>\n",
       "    </tr>\n",
       "  </thead>\n",
       "  <tbody>\n",
       "    <tr>\n",
       "      <th>3</th>\n",
       "      <td>/politics/36188461-s-marta-zhizn-rossiyan-susc...</td>\n",
       "    </tr>\n",
       "    <tr>\n",
       "      <th>4</th>\n",
       "      <td>/world/36007585-tramp-pridumal-kak-reshit-ukra...</td>\n",
       "    </tr>\n",
       "    <tr>\n",
       "      <th>5</th>\n",
       "      <td>/science/36157853-nasa-sobiraet-ekstrennuyu-pr...</td>\n",
       "    </tr>\n",
       "    <tr>\n",
       "      <th>6</th>\n",
       "      <td>/video/36001498-poyavilis-pervye-podrobnosti-g...</td>\n",
       "    </tr>\n",
       "    <tr>\n",
       "      <th>7</th>\n",
       "      <td>/world/36007585-tramp-pridumal-kak-reshit-ukra...</td>\n",
       "    </tr>\n",
       "  </tbody>\n",
       "</table>\n",
       "</div>"
      ],
      "text/plain": [
       "                                                 url\n",
       "3  /politics/36188461-s-marta-zhizn-rossiyan-susc...\n",
       "4  /world/36007585-tramp-pridumal-kak-reshit-ukra...\n",
       "5  /science/36157853-nasa-sobiraet-ekstrennuyu-pr...\n",
       "6  /video/36001498-poyavilis-pervye-podrobnosti-g...\n",
       "7  /world/36007585-tramp-pridumal-kak-reshit-ukra..."
      ]
     },
     "execution_count": 3,
     "metadata": {},
     "output_type": "execute_result"
    }
   ],
   "source": [
    "urls = pd.read_csv('URLs.txt')\n",
    "pattern = r'^/{1}\\w+/{1}\\d{8}-{1}'\n",
    "urls[urls['url'].str.contains(pattern, regex=True)].head()"
   ]
  },
  {
   "cell_type": "markdown",
   "metadata": {},
   "source": [
    "# Задание 3."
   ]
  },
  {
   "cell_type": "code",
   "execution_count": 4,
   "metadata": {},
   "outputs": [
    {
     "name": "stdout",
     "output_type": "stream",
     "text": [
      "Среднее время жизни пользователей с количеством оценок более 100: 40080507 c\n"
     ]
    }
   ],
   "source": [
    "ratings = pd.read_csv('ratings.csv')\n",
    "modified_ratings = ratings.groupby(by='userId').agg({'rating': 'count',  'timestamp': ['max', 'min']})\n",
    "modified_ratings.loc[modified_ratings['rating']['count'] > 100, 'diff'] = modified_ratings['timestamp']['max'] - modified_ratings['timestamp']['min']\n",
    "print('Среднее время жизни пользователей с количеством оценок более 100:', int(modified_ratings['diff'].mean()), 'c')"
   ]
  },
  {
   "cell_type": "markdown",
   "metadata": {},
   "source": [
    "# Задание 4."
   ]
  },
  {
   "cell_type": "code",
   "execution_count": 5,
   "metadata": {},
   "outputs": [],
   "source": [
    "# Data.\n",
    "# rzd - железнодорожные перевозки.\n",
    "rzd = pd.DataFrame(\n",
    "    {\n",
    "        'client_id': [111, 112, 113, 114, 115],\n",
    "        'rzd_revenue': [1093, 2810, 10283, 5774, 981]\n",
    "    }\n",
    ")\n",
    "\n",
    "# auto - автомобильные перевозки.\n",
    "auto = pd.DataFrame(\n",
    "    {\n",
    "        'client_id': [113, 114, 115, 116, 117],\n",
    "        'auto_revenue': [57483, 83, 912, 4834, 98]\n",
    "    }\n",
    ")\n",
    "\n",
    "# air - воздушные перевозки.\n",
    "air = pd.DataFrame(\n",
    "    {\n",
    "        'client_id': [115, 116, 117, 118],\n",
    "        'air_revenue': [81, 4, 13, 173]\n",
    "    }\n",
    ")\n",
    "\n",
    "# client_base - адреса клиентов.\n",
    "client_base = pd.DataFrame(\n",
    "    {\n",
    "        'client_id': [111, 112, 113, 114, 115, 116, 117, 118],\n",
    "        'address': ['Комсомольская 4', 'Энтузиастов 8а', 'Левобережная 1а', 'Мира 14', 'ЗЖБИиДК 1', \n",
    "                    'Строителей 18', 'Панфиловская 33', 'Мастеркова 4']\n",
    "    }\n",
    ")\n",
    "\n",
    "\n",
    "# Solution.\n",
    "df_1 = pd.merge(rzd, air, on='client_id', how='outer')\n",
    "df_2 = pd.merge(auto, df_1, on='client_id', how='outer')\n",
    "\n",
    "# Without address.\n",
    "df_without_address = pd.merge(client_base['client_id'], df_2, on='client_id', how='outer').fillna(0)\n",
    "\n",
    "# With address.\n",
    "df_with_address = pd.merge(client_base, df_2, on='client_id', how='outer').fillna(0)"
   ]
  }
 ],
 "metadata": {
  "kernelspec": {
   "display_name": "Python 3",
   "language": "python",
   "name": "python3"
  },
  "language_info": {
   "codemirror_mode": {
    "name": "ipython",
    "version": 3
   },
   "file_extension": ".py",
   "mimetype": "text/x-python",
   "name": "python",
   "nbconvert_exporter": "python",
   "pygments_lexer": "ipython3",
   "version": "3.8.5"
  }
 },
 "nbformat": 4,
 "nbformat_minor": 4
}
