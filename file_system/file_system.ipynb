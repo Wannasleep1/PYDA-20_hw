{
 "cells": [
  {
   "cell_type": "markdown",
   "metadata": {},
   "source": [
    "# Задание 1"
   ]
  },
  {
   "cell_type": "code",
   "execution_count": 42,
   "metadata": {},
   "outputs": [],
   "source": [
    "# Whole file processing.\n",
    "with open('purchase_log.txt', 'r', encoding='utf-8') as pl:\n",
    "    import json\n",
    "    purchases = dict()\n",
    "    first_line_flag = True\n",
    "    for line in pl:\n",
    "        \n",
    "        if first_line_flag == True:\n",
    "            first_line_flag = False\n",
    "            continue\n",
    "            \n",
    "        dict_line = json.loads(line)\n",
    "        dict_vals = [val for val in dict_line.values()]\n",
    "        purchases[dict_vals[0]] = dict_vals[1]\n",
    "        \n",
    "\n",
    "# # Test for the first ten lines.\n",
    "# with open('purchase_log.txt', 'r', encoding='utf-8') as pl:\n",
    "#     import json\n",
    "#     purchases = dict()\n",
    "#     first_line_flag = True\n",
    "#     i = 0\n",
    "#     for line in pl:\n",
    "        \n",
    "#         if first_line_flag == True:\n",
    "#             first_line_flag = False\n",
    "#             continue\n",
    "            \n",
    "#         dict_line = json.loads(line)\n",
    "#         dict_vals = [val for val in dict_line.values()]\n",
    "#         purchases[dict_vals[0]] = dict_vals[1]\n",
    "#         i += 1\n",
    "#         if i == 10:\n",
    "#             break\n",
    "            \n",
    "            \n",
    "# print(purchases)"
   ]
  },
  {
   "cell_type": "markdown",
   "metadata": {},
   "source": [
    "# Задание 2"
   ]
  },
  {
   "cell_type": "code",
   "execution_count": 52,
   "metadata": {},
   "outputs": [],
   "source": [
    "with open('funnel.csv', 'w', encoding='utf-8', newline='') as fn:\n",
    "    import json\n",
    "    import csv\n",
    "    # Creating object to write.\n",
    "    writing_obj_gn = csv.writer(fn)\n",
    "    \n",
    "    with open('visit_log.csv', 'r', encoding='utf-8') as vl:\n",
    "        \n",
    "        # Getting purchases dictionary for optimal searching time.\n",
    "        with open('purchase_log.txt', 'r', encoding='utf-8') as pl:\n",
    "            \n",
    "            purchases = dict()\n",
    "            first_line_flag = True\n",
    "            pl_loaded = pl.readlines()\n",
    "            for line in pl_loaded:\n",
    "                # First line check.\n",
    "                if first_line_flag == True:\n",
    "                    first_line_flag = False\n",
    "                    continue\n",
    "                dict_line = json.loads(line)\n",
    "                dict_vals = [val for val in dict_line.values()]\n",
    "                purchases[dict_vals[0]] = dict_vals[1]\n",
    "        \n",
    "        # Filling in 'funnel.csv' file.\n",
    "        # Creating object to read.\n",
    "        reading_obj_vl = csv.reader(vl)\n",
    "        first_line_flag = True\n",
    "        for line in reading_obj_vl:\n",
    "            # First line check.\n",
    "            if first_line_flag == True:\n",
    "                first_line_flag = False\n",
    "                continue\n",
    "            result = line\n",
    "            category = purchases.get(line[0], -1)\n",
    "            if category == -1:\n",
    "                counter_not_match += 1\n",
    "                continue\n",
    "            else:\n",
    "                result.append(category)\n",
    "                writing_obj_gn.writerow(result)\n",
    "                counter_match += 1"
   ]
  }
 ],
 "metadata": {
  "kernelspec": {
   "display_name": "Python 3",
   "language": "python",
   "name": "python3"
  },
  "language_info": {
   "codemirror_mode": {
    "name": "ipython",
    "version": 3
   },
   "file_extension": ".py",
   "mimetype": "text/x-python",
   "name": "python",
   "nbconvert_exporter": "python",
   "pygments_lexer": "ipython3",
   "version": "3.8.5"
  }
 },
 "nbformat": 4,
 "nbformat_minor": 4
}
