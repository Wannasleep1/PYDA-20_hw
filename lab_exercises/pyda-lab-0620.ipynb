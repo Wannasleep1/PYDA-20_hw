{
 "cells": [
  {
   "cell_type": "markdown",
   "metadata": {},
   "source": [
    "## Лабораторная работа по курсу «Python для анализа данных»"
   ]
  },
  {
   "cell_type": "markdown",
   "metadata": {},
   "source": [
    "### При выполнении работы допускается использование любых внешних модулей и пакетов."
   ]
  },
  {
   "cell_type": "markdown",
   "metadata": {},
   "source": [
    "#### Задача 1"
   ]
  },
  {
   "cell_type": "markdown",
   "metadata": {},
   "source": [
    "Дана строка:"
   ]
  },
  {
   "cell_type": "code",
   "execution_count": 1,
   "metadata": {},
   "outputs": [],
   "source": [
    "string_01 = \"History is always written by the winners. When two cultures clash, the loser is obliterated, and the winner writes the history books - books which glorify their own cause and disparage the conquered foe. As Napoleon once said, 'What is history, but a fable agreed upon?'\""
   ]
  },
  {
   "cell_type": "markdown",
   "metadata": {},
   "source": [
    "1. Посчитайте, сколько в строке символов, исключая пробелы:"
   ]
  },
  {
   "cell_type": "code",
   "execution_count": 2,
   "metadata": {},
   "outputs": [
    {
     "name": "stdout",
     "output_type": "stream",
     "text": [
      "225\n",
      "225\n",
      "225\n"
     ]
    }
   ],
   "source": [
    "import re\n",
    "\n",
    "print(len(re.findall(r'\\S', string_01)))\n",
    "\n",
    "# Or\n",
    "counter = 0\n",
    "for char in string_01:\n",
    "    if char != ' ':\n",
    "        counter += 1\n",
    "print(counter)\n",
    "\n",
    "# Or\n",
    "print(len(string_01) - string_01.count(' '))"
   ]
  },
  {
   "cell_type": "markdown",
   "metadata": {},
   "source": [
    "2. Посчитайте, сколько в строке слов."
   ]
  },
  {
   "cell_type": "code",
   "execution_count": 3,
   "metadata": {},
   "outputs": [
    {
     "name": "stdout",
     "output_type": "stream",
     "text": [
      "45\n"
     ]
    }
   ],
   "source": [
    "print(len(re.findall(r'\\w+', string_01)))"
   ]
  },
  {
   "cell_type": "markdown",
   "metadata": {},
   "source": [
    "3. Напишите функцию, которая будет принимать в качестве аргумента букву и выводить все слова из строки, начинающиеся на эту букву (например, “w”)."
   ]
  },
  {
   "cell_type": "code",
   "execution_count": 15,
   "metadata": {},
   "outputs": [
    {
     "name": "stdout",
     "output_type": "stream",
     "text": [
      "['written', 'winners', 'When', 'winner', 'writes', 'which', 'What']\n",
      "['History', 'history', 'history']\n",
      "['loser']\n"
     ]
    }
   ],
   "source": [
    "def get_all_words_with_given_first_letter(letter):\n",
    "    result = list(re.findall(r'\\b[{}{}]\\w+'.format(letter.lower(), letter.upper()), string_01))\n",
    "    return result\n",
    "\n",
    "\n",
    "print(get_all_words_with_given_first_letter('w'))\n",
    "print(get_all_words_with_given_first_letter('h'))\n",
    "print(get_all_words_with_given_first_letter('l'))"
   ]
  },
  {
   "cell_type": "markdown",
   "metadata": {},
   "source": [
    "#### Задача 2"
   ]
  },
  {
   "cell_type": "markdown",
   "metadata": {},
   "source": [
    "Напишите код, который будет генерировать случайную последовательность из 6 цифр, одна из которых должна быть 3. Позиция цифры 3 должна\n",
    "определяться случайным образом. Результат должен быть строкой. Например: \"456309\" или \"330127\"."
   ]
  },
  {
   "cell_type": "code",
   "execution_count": 5,
   "metadata": {},
   "outputs": [
    {
     "name": "stdout",
     "output_type": "stream",
     "text": [
      "317938\n",
      "204921\n",
      "873089\n"
     ]
    }
   ],
   "source": [
    "import random as rd\n",
    "\n",
    "def get_rand_seq():\n",
    "    pos = rd.randint(0, 6)\n",
    "    result = ''\n",
    "    for i in range(6):\n",
    "        if i == pos:\n",
    "            result += '3'\n",
    "            continue\n",
    "        result += str(rd.randint(0, 9))\n",
    "    return result\n",
    "\n",
    "\n",
    "print(get_rand_seq())\n",
    "print(get_rand_seq())\n",
    "print(get_rand_seq())"
   ]
  },
  {
   "cell_type": "markdown",
   "metadata": {},
   "source": [
    "#### Задача 3"
   ]
  },
  {
   "cell_type": "markdown",
   "metadata": {},
   "source": [
    "Дан список:"
   ]
  },
  {
   "cell_type": "code",
   "execution_count": 6,
   "metadata": {},
   "outputs": [],
   "source": [
    "list_01 = [1, 1, 2, 3, 5, 8, 13, 21, 34, 55, 89, 144, 233, 377, 610, 14, 46, 273, 22, 99, 15, 1000]"
   ]
  },
  {
   "cell_type": "markdown",
   "metadata": {},
   "source": [
    "Напишите алгоритм, который выводит число, равное сумме элементов списка, которые больше 10, но меньше 100, и которые больше 200, но меньше 500."
   ]
  },
  {
   "cell_type": "code",
   "execution_count": 7,
   "metadata": {},
   "outputs": [
    {
     "name": "stdout",
     "output_type": "stream",
     "text": [
      "1291\n"
     ]
    }
   ],
   "source": [
    "print(sum([num for num in list_01 if (10 < num < 100 or 200 < num < 500)]))"
   ]
  },
  {
   "cell_type": "markdown",
   "metadata": {},
   "source": [
    "#### Задача 4"
   ]
  },
  {
   "cell_type": "markdown",
   "metadata": {},
   "source": [
    "Данные студентов представлены в виде списка списков:"
   ]
  },
  {
   "cell_type": "code",
   "execution_count": 8,
   "metadata": {},
   "outputs": [],
   "source": [
    "students = [\n",
    "[\"0001\", \"Антонов\", \"Антон\", \"Игоревич\", \"20.08.2009\",\"БСТ161\"],\n",
    "[\"1102\", \"Богов\", \"Артем\", \"Игоревич\", \"25.01.2010\",\"БСТ162\"],\n",
    "[\"0333\", \"Глаголева\", \"Анастасия\", \"Николаевна\", \"11.07.2009\", \"БСТ163\"],\n",
    "[\"4004\", \"Степанова\", \"Наталья\", \"Александровна\", \"13.02.2008\", \"БСТ161\"],\n",
    "[\"0045\", \"Боков\", \"Игорь\", \"Харитонович\", \"02.06.2009\", \"БСТ161\"],\n",
    "[\"0096\", \"Васильков\", \"Валентин\", \"Сергеевич\", \"20.03.2009\", \"БСТ164\"],\n",
    "[\"0607\", \"Сиропова\", \"Виолетта\", \"Эдуардовна\", \"28.05.2010\", \"БСТ162\"]\n",
    "    ]"
   ]
  },
  {
   "cell_type": "markdown",
   "metadata": {},
   "source": [
    "1. Преобразуйте данные таким образом, чтобы они были представлены в виде словаря, в котором ключами являются номера студентов, а значениями — список из других данных о студентах."
   ]
  },
  {
   "cell_type": "code",
   "execution_count": 16,
   "metadata": {},
   "outputs": [
    {
     "name": "stdout",
     "output_type": "stream",
     "text": [
      "{'0001': ['Антонов', 'Антон', 'Игоревич', '20.08.2009', 'БСТ161'], '1102': ['Богов', 'Артем', 'Игоревич', '25.01.2010', 'БСТ162'], '0333': ['Глаголева', 'Анастасия', 'Николаевна', '11.07.2009', 'БСТ163'], '4004': ['Степанова', 'Наталья', 'Александровна', '13.02.2008', 'БСТ161'], '0045': ['Боков', 'Игорь', 'Харитонович', '02.06.2009', 'БСТ161'], '0096': ['Васильков', 'Валентин', 'Сергеевич', '20.03.2009', 'БСТ164'], '0607': ['Сиропова', 'Виолетта', 'Эдуардовна', '28.05.2010', 'БСТ162']}\n"
     ]
    }
   ],
   "source": [
    "stud_dict = dict()\n",
    "for elem in students:\n",
    "    stud_dict[elem[0]] = elem[1:]\n",
    "\n",
    "print(stud_dict)"
   ]
  },
  {
   "cell_type": "markdown",
   "metadata": {},
   "source": [
    "2. Напишите функцию, которая принимает в качестве аргумента номер студента и новый номер группы и позволяет изменить номер группы этого студента на новый внутри созданного словаря."
   ]
  },
  {
   "cell_type": "code",
   "execution_count": 10,
   "metadata": {},
   "outputs": [
    {
     "name": "stdout",
     "output_type": "stream",
     "text": [
      "['Антонов', 'Антон', 'Игоревич', '20.08.2009', 'БСТ101']\n",
      "['Васильков', 'Валентин', 'Сергеевич', '20.03.2009', 'БСТ167']\n"
     ]
    }
   ],
   "source": [
    "def change_student_group_num(stud_num, new_group_num):\n",
    "    stud_dict[stud_num][-1] = new_group_num\n",
    "    \n",
    "    \n",
    "# Test.\n",
    "stud_dict = {\n",
    "    '0001': ['Антонов', 'Антон', 'Игоревич', '20.08.2009', 'БСТ161'], \n",
    "    '1102': ['Богов', 'Артем', 'Игоревич', '25.01.2010', 'БСТ162'], \n",
    "    '0333': ['Глаголева', 'Анастасия', 'Николаевна', '11.07.2009', 'БСТ163'], \n",
    "    '4004': ['Степанова', 'Наталья', 'Александровна', '13.02.2008', 'БСТ161'], \n",
    "    '0045': ['Боков', 'Игорь', 'Харитонович', '02.06.2009', 'БСТ161'], \n",
    "    '0096': ['Васильков', 'Валентин', 'Сергеевич', '20.03.2009', 'БСТ164'], \n",
    "    '0607': ['Сиропова', 'Виолетта', 'Эдуардовна', '28.05.2010', 'БСТ162'],\n",
    "    }\n",
    "\n",
    "change_student_group_num('0001', 'БСТ101')\n",
    "assert stud_dict['0001'] == ['Антонов', 'Антон', 'Игоревич', '20.08.2009', 'БСТ101']\n",
    "print(stud_dict['0001'])\n",
    "\n",
    "change_student_group_num('0096', 'БСТ167')\n",
    "assert stud_dict['0096'] == ['Васильков', 'Валентин', 'Сергеевич', '20.03.2009', 'БСТ167']\n",
    "print(stud_dict['0096'])"
   ]
  },
  {
   "cell_type": "markdown",
   "metadata": {},
   "source": [
    "3. Напишите функцию, которая принимает номер группы и выводит список (фамилии, имена, отчества) всех студентов этой группы. Необходимо обращаться к словарю."
   ]
  },
  {
   "cell_type": "code",
   "execution_count": 11,
   "metadata": {},
   "outputs": [],
   "source": [
    "def get_all_students_in_group(group_num):\n",
    "    result = []\n",
    "    for value in stud_dict.values():\n",
    "        if value[-1] == group_num:\n",
    "            fio_tuple = (value[0], value[1], value[2])\n",
    "            result.append(fio_tuple)\n",
    "    \n",
    "    result.sort()\n",
    "    return result if result else 'There is no such group in DB.'\n",
    "\n",
    "\n",
    "# Test.\n",
    "stud_dict = {\n",
    "    '0001': ['Антонов', 'Антон', 'Игоревич', '20.08.2009', 'БСТ161'], \n",
    "    '1102': ['Богов', 'Артем', 'Игоревич', '25.01.2010', 'БСТ162'], \n",
    "    '0333': ['Глаголева', 'Анастасия', 'Николаевна', '11.07.2009', 'БСТ163'], \n",
    "    '4004': ['Степанова', 'Наталья', 'Александровна', '13.02.2008', 'БСТ161'], \n",
    "    '0045': ['Боков', 'Игорь', 'Харитонович', '02.06.2009', 'БСТ161'], \n",
    "    '0096': ['Васильков', 'Валентин', 'Сергеевич', '20.03.2009', 'БСТ164'], \n",
    "    '0607': ['Сиропова', 'Виолетта', 'Эдуардовна', '28.05.2010', 'БСТ162'],\n",
    "    }\n",
    "\n",
    "assert get_all_students_in_group('БСТ161') == [('Антонов', 'Антон', 'Игоревич'), ('Боков', 'Игорь', 'Харитонович'), ('Степанова', 'Наталья', 'Александровна')]\n",
    "assert get_all_students_in_group('БСТ163') == [('Глаголева', 'Анастасия', 'Николаевна')]\n",
    "assert get_all_students_in_group('kok') == 'There is no such group in DB.'"
   ]
  },
  {
   "cell_type": "markdown",
   "metadata": {},
   "source": [
    "#### Задача 5"
   ]
  },
  {
   "cell_type": "markdown",
   "metadata": {},
   "source": [
    "Дана матрица:"
   ]
  },
  {
   "cell_type": "code",
   "execution_count": 12,
   "metadata": {},
   "outputs": [],
   "source": [
    "matrix = [ \n",
    "    [0,1,2,4,8], \n",
    "    [6,2,2,1,9], \n",
    "    [3,3,3,3,3], \n",
    "    [4,6,7,1,2], \n",
    "    [5,7,3,4,0] \n",
    "]"
   ]
  },
  {
   "cell_type": "markdown",
   "metadata": {},
   "source": [
    "1. Выведите результат сложения всех элементов матрицы."
   ]
  },
  {
   "cell_type": "code",
   "execution_count": 13,
   "metadata": {},
   "outputs": [
    {
     "name": "stdout",
     "output_type": "stream",
     "text": [
      "89\n"
     ]
    }
   ],
   "source": [
    "print(sum([sum(string) for string in matrix]))"
   ]
  },
  {
   "cell_type": "markdown",
   "metadata": {},
   "source": [
    "2. Напишите алгоритм вычисления максимума из сумм элементов каждого столбца."
   ]
  },
  {
   "cell_type": "code",
   "execution_count": 14,
   "metadata": {},
   "outputs": [
    {
     "name": "stdout",
     "output_type": "stream",
     "text": [
      "22\n"
     ]
    }
   ],
   "source": [
    "strings_qty = len(matrix)\n",
    "columns_qty = len(matrix[0])\n",
    "maximal = 0\n",
    "for i in range(columns_qty):\n",
    "    res = 0\n",
    "    for j in range(strings_qty):\n",
    "        res += matrix[j][i]\n",
    "    if res > maximal:\n",
    "        maximal = res\n",
    "\n",
    "print(maximal)"
   ]
  }
 ],
 "metadata": {
  "kernelspec": {
   "display_name": "Python 3",
   "language": "python",
   "name": "python3"
  },
  "language_info": {
   "codemirror_mode": {
    "name": "ipython",
    "version": 3
   },
   "file_extension": ".py",
   "mimetype": "text/x-python",
   "name": "python",
   "nbconvert_exporter": "python",
   "pygments_lexer": "ipython3",
   "version": "3.8.5"
  }
 },
 "nbformat": 4,
 "nbformat_minor": 2
}
