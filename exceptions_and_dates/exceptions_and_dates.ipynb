{
 "cells": [
  {
   "cell_type": "markdown",
   "metadata": {},
   "source": [
    "# Задание 1.\n",
    "### 1) The Moscow Times - Wednesday, October 2, 2002:"
   ]
  },
  {
   "cell_type": "code",
   "execution_count": 1,
   "metadata": {},
   "outputs": [
    {
     "name": "stdout",
     "output_type": "stream",
     "text": [
      "2002-10-02 00:00:00\n"
     ]
    }
   ],
   "source": [
    "# The datetime format.\n",
    "dt_format = \"The Moscow Times - %A, %B %d, %Y\"\n",
    "\n",
    "\n",
    "# Test.\n",
    "from datetime import datetime as dt\n",
    "string = \"The Moscow Times - Wednesday, October 2, 2002\"\n",
    "result = dt.strptime(string, dt_format)\n",
    "print(result)"
   ]
  },
  {
   "cell_type": "markdown",
   "metadata": {},
   "source": [
    "### 2) The Guardian - Friday, 11.10.13:"
   ]
  },
  {
   "cell_type": "code",
   "execution_count": 2,
   "metadata": {},
   "outputs": [
    {
     "name": "stdout",
     "output_type": "stream",
     "text": [
      "2013-11-10 00:00:00\n"
     ]
    }
   ],
   "source": [
    "# The datetime format.\n",
    "dt_format = \"The Guardian - %A, %m.%d.%y\"\n",
    "\n",
    "\n",
    "# Test.\n",
    "from datetime import datetime as dt\n",
    "string = \"The Guardian - Friday, 11.10.13\"\n",
    "result = dt.strptime(string, dt_format)\n",
    "print(result)"
   ]
  },
  {
   "cell_type": "markdown",
   "metadata": {},
   "source": [
    "### 3) Daily News - Thursday, 18 August 1977:"
   ]
  },
  {
   "cell_type": "code",
   "execution_count": 3,
   "metadata": {},
   "outputs": [
    {
     "name": "stdout",
     "output_type": "stream",
     "text": [
      "1977-08-18 00:00:00\n"
     ]
    }
   ],
   "source": [
    "# The datetime format.\n",
    "dt_format = \"Daily News - %A, %d %B %Y\"\n",
    "\n",
    "\n",
    "# Test.\n",
    "from datetime import datetime as dt\n",
    "string = \"Daily News - Thursday, 18 August 1977\"\n",
    "result = dt.strptime(string, dt_format)\n",
    "print(result)"
   ]
  },
  {
   "cell_type": "markdown",
   "metadata": {},
   "source": [
    "# Задание 2."
   ]
  },
  {
   "cell_type": "code",
   "execution_count": 4,
   "metadata": {},
   "outputs": [
    {
     "name": "stdout",
     "output_type": "stream",
     "text": [
      "True\n",
      "False\n",
      "False\n"
     ]
    }
   ],
   "source": [
    "def check_date_lst(date_lst):\n",
    "    \"\"\" Checks if the given date and time are correct or not. \"\"\"\n",
    "    \n",
    "    from datetime import datetime as dt\n",
    "    \n",
    "    for dte in date_lst:\n",
    "        try:\n",
    "            dte = dt.strptime(dte, \"%Y-%m-%d\")\n",
    "            print(True)\n",
    "        except ValueError:\n",
    "            print(False)\n",
    "        \n",
    "\n",
    "# Test.\n",
    "stream = ['2018-04-02', '2018-02-29', '2018-19-02']\n",
    "check_date_lst(stream)\n",
    "# -----------------------------------------------------------------------------------------------------------------------------\n",
    "\n",
    "\n",
    "# def check_date(dte):\n",
    "#     \"\"\" Checks if the given date and time are correct or not. \"\"\"\n",
    "    \n",
    "#     from datetime import datetime as dt\n",
    "#     try:\n",
    "#         dte = dt.strptime(dte, \"%Y-%m-%d\")\n",
    "#         return True\n",
    "#     except ValueError:\n",
    "#         return False\n",
    "        \n",
    "\n",
    "# # Test.\n",
    "# stream = ['2018-04-02', '2018-02-29', '2018-19-02']\n",
    "# for dte in stream:\n",
    "#     print(check_date(dte))"
   ]
  },
  {
   "cell_type": "markdown",
   "metadata": {},
   "source": [
    "# Задание 3."
   ]
  },
  {
   "cell_type": "code",
   "execution_count": 6,
   "metadata": {},
   "outputs": [],
   "source": [
    "from datetime import timedelta as td\n",
    "from datetime import datetime as dt\n",
    "\n",
    "\n",
    "def check_date(dte):\n",
    "    \"\"\" Checks if the given date and time are correct or not. \"\"\"\n",
    "    \n",
    "    try:\n",
    "        dte = dt.strptime(dte, \"%Y-%m-%d\")\n",
    "        return True\n",
    "    except ValueError:\n",
    "        return False\n",
    "\n",
    "    \n",
    "def get_date_lst(start_date, end_date):\n",
    "    \"\"\" Returns list that consist of dates between the given dates. \"\"\"\n",
    "    \n",
    "    sd_check, ed_check = check_date(start_date), check_date(end_date)\n",
    "    result = []\n",
    "    \n",
    "    if (start_date > end_date) or (not sd_check) or (not ed_check):\n",
    "        pass\n",
    "    else:\n",
    "        # Fixed here.\n",
    "        curr_date = dt.strptime(start_date[:], \"%Y-%m-%d\")\n",
    "        while curr_date.strftime(\"%Y-%m-%d\") <= end_date:\n",
    "            result.append(curr_date.strftime(\"%Y-%m-%d\"))\n",
    "            curr_date = curr_date + td(days=1)\n",
    "    return result\n",
    "\n",
    "\n",
    "# Test.\n",
    "assert get_date_lst('2020-12-21', '2020-12-21') == ['2020-12-21']\n",
    "assert get_date_lst('2020-12-21', '2020-12-12') == []\n",
    "assert get_date_lst('2021-02-31', '2021-02-31') == []\n",
    "assert len(get_date_lst('2020-12-12', '2020-12-21')) == 10"
   ]
  },
  {
   "cell_type": "markdown",
   "metadata": {},
   "source": [
    "# Задание 4."
   ]
  },
  {
   "cell_type": "markdown",
   "metadata": {},
   "source": [
    "### 1)  Исключение \"IndexError: list index out of range\" говорит о том, что длина списка меньше, чем индекс вызываемого элемента этого списка. Или, иначе говоря, элемента с таким индексом в списке не существует.\n",
    "### 2) В данном случае исключение возникает в связи с тем, что функция оперирует одним и тем же значением индекса DEFAULT_USER_COUNT = 3. После первого вызова искомой функции длина листа default_list становится равной 2. Индекс равен 1 - программа отрабатывает нормально. При повторном вызове индекс также будет равен 1, но длина списка после преобразований внутри тела функции станет равной 1. Итого, индекс указывает на второй элемент, а в списке всего один элемент, что по пункту 1 и приводит к появлению исключения."
   ]
  }
 ],
 "metadata": {
  "kernelspec": {
   "display_name": "Python 3",
   "language": "python",
   "name": "python3"
  },
  "language_info": {
   "codemirror_mode": {
    "name": "ipython",
    "version": 3
   },
   "file_extension": ".py",
   "mimetype": "text/x-python",
   "name": "python",
   "nbconvert_exporter": "python",
   "pygments_lexer": "ipython3",
   "version": "3.8.5"
  }
 },
 "nbformat": 4,
 "nbformat_minor": 4
}
